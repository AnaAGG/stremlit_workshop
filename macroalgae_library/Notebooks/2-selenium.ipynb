{
 "cells": [
  {
   "cell_type": "markdown",
   "id": "45128568",
   "metadata": {
    "toc": true
   },
   "source": [
    "<h1>Table of Contents<span class=\"tocSkip\"></span></h1>\n",
    "<div class=\"toc\"><ul class=\"toc-item\"><li><span><a href=\"#Libraries\" data-toc-modified-id=\"Libraries-1\"><span class=\"toc-item-num\">1&nbsp;&nbsp;</span>Libraries</a></span></li><li><span><a href=\"#Setting-options\" data-toc-modified-id=\"Setting-options-2\"><span class=\"toc-item-num\">2&nbsp;&nbsp;</span>Setting options</a></span><ul class=\"toc-item\"><li><span><a href=\"#Selenium-options\" data-toc-modified-id=\"Selenium-options-2.1\"><span class=\"toc-item-num\">2.1&nbsp;&nbsp;</span>Selenium options</a></span></li><li><span><a href=\"#Species-options\" data-toc-modified-id=\"Species-options-2.2\"><span class=\"toc-item-num\">2.2&nbsp;&nbsp;</span>Species options</a></span></li><li><span><a href=\"#Get-info\" data-toc-modified-id=\"Get-info-2.3\"><span class=\"toc-item-num\">2.3&nbsp;&nbsp;</span>Get info</a></span><ul class=\"toc-item\"><li><span><a href=\"#Cleaning-data\" data-toc-modified-id=\"Cleaning-data-2.3.1\"><span class=\"toc-item-num\">2.3.1&nbsp;&nbsp;</span>Cleaning data</a></span></li></ul></li></ul></li></ul></div>"
   ]
  },
  {
   "cell_type": "markdown",
   "id": "772016f5",
   "metadata": {},
   "source": [
    "# Libraries "
   ]
  },
  {
   "cell_type": "code",
   "execution_count": null,
   "id": "3d184678",
   "metadata": {},
   "outputs": [],
   "source": [
    "import sys\n",
    "sys.path.append('../')"
   ]
  },
  {
   "cell_type": "code",
   "execution_count": null,
   "id": "ec7de82f",
   "metadata": {},
   "outputs": [],
   "source": [
    "from selenium import webdriver\n",
    "from selenium.webdriver.chrome.options import Options\n",
    "from functools import reduce\n",
    "import time\n",
    "import pandas as pd\n",
    "import src.scrapping as sc\n"
   ]
  },
  {
   "cell_type": "markdown",
   "id": "ad2dee9a",
   "metadata": {},
   "source": [
    "# Setting options "
   ]
  },
  {
   "cell_type": "markdown",
   "id": "f8270f3e",
   "metadata": {},
   "source": [
    "## Selenium options "
   ]
  },
  {
   "cell_type": "code",
   "execution_count": null,
   "id": "22280b06",
   "metadata": {},
   "outputs": [],
   "source": [
    "opciones=Options()\n",
    "\n",
    "opciones.add_experimental_option('excludeSwitches', ['enable-automation'])\n",
    "opciones.add_experimental_option('useAutomationExtension', False)\n",
    "\n",
    "opciones.headless=False    # si True, no aperece la ventana (headless=no visible)\n",
    "\n",
    "opciones.add_argument('--start-maximized')         # comienza maximizado\n",
    "\n",
    "opciones.add_argument('user-data-dir=selenium')    # mantiene las cookies\n",
    "\n",
    "#opciones.add_extension('driver_folder/adblock.crx')       # adblocker\n",
    "\n",
    "opciones.add_argument('--incognito')              # incognito"
   ]
  },
  {
   "cell_type": "markdown",
   "id": "51ced2eb",
   "metadata": {},
   "source": [
    "## Species options"
   ]
  },
  {
   "cell_type": "code",
   "execution_count": null,
   "id": "1a331965",
   "metadata": {},
   "outputs": [],
   "source": [
    "param = [\"Fucus+serratus\", \"Ascophyllum+nodosum\", \"Pelvetia+canaliculata\", \"Bifurcaria+bifurcata\",\n",
    "        \"Ulva+lactuca\", \"Fucus+vesiculosus\", \"Fucus+spiralis\", \"Codium+tomentosum\", \"Sargassum+muticum\", \n",
    "         \"Laminaria+hyperborea\", \"Palmaria+palmata\", \"Alaria+esculenta\", \"Laminaria+digitata\", \"Himanthalia+elongata\", \n",
    "         \"Halidrys+siliquosa\", \"Saccharina+latissima\"]\n",
    "driver = \"chromedriver\""
   ]
  },
  {
   "cell_type": "markdown",
   "id": "b48de6f4",
   "metadata": {},
   "source": [
    "## Get info"
   ]
  },
  {
   "cell_type": "code",
   "execution_count": null,
   "id": "22880aa3",
   "metadata": {
    "scrolled": true
   },
   "outputs": [],
   "source": [
    "df = sc.species_scrap(opciones, param, driver)    "
   ]
  },
  {
   "cell_type": "code",
   "execution_count": null,
   "id": "a7eca31d",
   "metadata": {},
   "outputs": [],
   "source": [
    "df"
   ]
  },
  {
   "cell_type": "markdown",
   "id": "2639f6d4",
   "metadata": {},
   "source": [
    "### Cleaning data "
   ]
  },
  {
   "cell_type": "code",
   "execution_count": null,
   "id": "3955ad64",
   "metadata": {},
   "outputs": [],
   "source": [
    "df = sc.cleaning(df)\n",
    "df"
   ]
  },
  {
   "cell_type": "code",
   "execution_count": null,
   "id": "6a79252a",
   "metadata": {},
   "outputs": [],
   "source": [
    "df3.to_csv(\"species_info.csv\", index = False)"
   ]
  },
  {
   "cell_type": "code",
   "execution_count": null,
   "id": "b422f370",
   "metadata": {},
   "outputs": [],
   "source": []
  }
 ],
 "metadata": {
  "kernelspec": {
   "display_name": "Selenium",
   "language": "python",
   "name": "selenium"
  },
  "language_info": {
   "codemirror_mode": {
    "name": "ipython",
    "version": 3
   },
   "file_extension": ".py",
   "mimetype": "text/x-python",
   "name": "python",
   "nbconvert_exporter": "python",
   "pygments_lexer": "ipython3",
   "version": "3.8.8"
  },
  "toc": {
   "base_numbering": 1,
   "nav_menu": {},
   "number_sections": true,
   "sideBar": true,
   "skip_h1_title": false,
   "title_cell": "Table of Contents",
   "title_sidebar": "Contents",
   "toc_cell": true,
   "toc_position": {},
   "toc_section_display": true,
   "toc_window_display": true
  }
 },
 "nbformat": 4,
 "nbformat_minor": 5
}
