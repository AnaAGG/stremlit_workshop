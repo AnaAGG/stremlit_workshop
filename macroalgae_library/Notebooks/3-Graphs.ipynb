{
 "cells": [
  {
   "cell_type": "code",
   "execution_count": 1,
   "id": "2dee0424",
   "metadata": {},
   "outputs": [],
   "source": [
    "import pandas as pd\n",
    "\n",
    "\n",
    "import plotly.express as px"
   ]
  },
  {
   "cell_type": "code",
   "execution_count": 2,
   "id": "984dfdb9",
   "metadata": {
    "scrolled": true
   },
   "outputs": [
    {
     "data": {
      "text/html": [
       "<div>\n",
       "<style scoped>\n",
       "    .dataframe tbody tr th:only-of-type {\n",
       "        vertical-align: middle;\n",
       "    }\n",
       "\n",
       "    .dataframe tbody tr th {\n",
       "        vertical-align: top;\n",
       "    }\n",
       "\n",
       "    .dataframe thead th {\n",
       "        text-align: right;\n",
       "    }\n",
       "</style>\n",
       "<table border=\"1\" class=\"dataframe\">\n",
       "  <thead>\n",
       "    <tr style=\"text-align: right;\">\n",
       "      <th></th>\n",
       "      <th>Unnamed: 0</th>\n",
       "      <th>lon</th>\n",
       "      <th>lat</th>\n",
       "      <th>locality</th>\n",
       "      <th>year</th>\n",
       "      <th>month</th>\n",
       "      <th>kingdom</th>\n",
       "      <th>class</th>\n",
       "      <th>family</th>\n",
       "      <th>genus</th>\n",
       "      <th>species</th>\n",
       "    </tr>\n",
       "  </thead>\n",
       "  <tbody>\n",
       "    <tr>\n",
       "      <th>0</th>\n",
       "      <td>4</td>\n",
       "      <td>-158.1254</td>\n",
       "      <td>21.5714</td>\n",
       "      <td>Waialua, Oahu, HI</td>\n",
       "      <td>1900</td>\n",
       "      <td>1.0</td>\n",
       "      <td>Plantae</td>\n",
       "      <td>Ulvophyceae</td>\n",
       "      <td>Codiaceae</td>\n",
       "      <td>Codium</td>\n",
       "      <td>Codium tomentosum</td>\n",
       "    </tr>\n",
       "    <tr>\n",
       "      <th>1</th>\n",
       "      <td>5</td>\n",
       "      <td>-158.1254</td>\n",
       "      <td>21.5714</td>\n",
       "      <td>Waialua, Oahu, HI</td>\n",
       "      <td>1900</td>\n",
       "      <td>1.0</td>\n",
       "      <td>Plantae</td>\n",
       "      <td>Ulvophyceae</td>\n",
       "      <td>Ulvaceae</td>\n",
       "      <td>Ulva</td>\n",
       "      <td>Ulva fasciata</td>\n",
       "    </tr>\n",
       "    <tr>\n",
       "      <th>2</th>\n",
       "      <td>16</td>\n",
       "      <td>-158.1830</td>\n",
       "      <td>21.4333</td>\n",
       "      <td>Waianae</td>\n",
       "      <td>1900</td>\n",
       "      <td>5.0</td>\n",
       "      <td>Plantae</td>\n",
       "      <td>Ulvophyceae</td>\n",
       "      <td>Ulvaceae</td>\n",
       "      <td>Ulva</td>\n",
       "      <td>Ulva lactuca</td>\n",
       "    </tr>\n",
       "    <tr>\n",
       "      <th>3</th>\n",
       "      <td>17</td>\n",
       "      <td>-6.8300</td>\n",
       "      <td>61.4500</td>\n",
       "      <td>Suderø, Vaags Ejde</td>\n",
       "      <td>1900</td>\n",
       "      <td>5.0</td>\n",
       "      <td>Chromista</td>\n",
       "      <td>Phaeophyceae</td>\n",
       "      <td>Fucaceae</td>\n",
       "      <td>Pelvetia</td>\n",
       "      <td>Pelvetia canaliculata</td>\n",
       "    </tr>\n",
       "    <tr>\n",
       "      <th>4</th>\n",
       "      <td>18</td>\n",
       "      <td>-70.7167</td>\n",
       "      <td>43.0750</td>\n",
       "      <td>New Castle</td>\n",
       "      <td>1900</td>\n",
       "      <td>5.0</td>\n",
       "      <td>Chromista</td>\n",
       "      <td>Phaeophyceae</td>\n",
       "      <td>Fucaceae</td>\n",
       "      <td>Fucus</td>\n",
       "      <td>Fucus vesiculosus</td>\n",
       "    </tr>\n",
       "  </tbody>\n",
       "</table>\n",
       "</div>"
      ],
      "text/plain": [
       "   Unnamed: 0       lon      lat            locality  year  month    kingdom  \\\n",
       "0           4 -158.1254  21.5714   Waialua, Oahu, HI  1900    1.0    Plantae   \n",
       "1           5 -158.1254  21.5714   Waialua, Oahu, HI  1900    1.0    Plantae   \n",
       "2          16 -158.1830  21.4333             Waianae  1900    5.0    Plantae   \n",
       "3          17   -6.8300  61.4500  Suderø, Vaags Ejde  1900    5.0  Chromista   \n",
       "4          18  -70.7167  43.0750          New Castle  1900    5.0  Chromista   \n",
       "\n",
       "          class     family     genus                species  \n",
       "0   Ulvophyceae  Codiaceae    Codium      Codium tomentosum  \n",
       "1   Ulvophyceae   Ulvaceae      Ulva          Ulva fasciata  \n",
       "2   Ulvophyceae   Ulvaceae      Ulva           Ulva lactuca  \n",
       "3  Phaeophyceae   Fucaceae  Pelvetia  Pelvetia canaliculata  \n",
       "4  Phaeophyceae   Fucaceae     Fucus      Fucus vesiculosus  "
      ]
     },
     "execution_count": 2,
     "metadata": {},
     "output_type": "execute_result"
    }
   ],
   "source": [
    "results = pd.read_csv(\"../data/macroalgae_final.csv\")\n",
    "results.head()"
   ]
  },
  {
   "cell_type": "code",
   "execution_count": null,
   "id": "e969e7b7",
   "metadata": {},
   "outputs": [],
   "source": [
    "results = results.dropna(how = \"any\")"
   ]
  },
  {
   "cell_type": "code",
   "execution_count": 3,
   "id": "a3d912e4",
   "metadata": {},
   "outputs": [
    {
     "data": {
      "text/html": [
       "<div>\n",
       "<style scoped>\n",
       "    .dataframe tbody tr th:only-of-type {\n",
       "        vertical-align: middle;\n",
       "    }\n",
       "\n",
       "    .dataframe tbody tr th {\n",
       "        vertical-align: top;\n",
       "    }\n",
       "\n",
       "    .dataframe thead th {\n",
       "        text-align: right;\n",
       "    }\n",
       "</style>\n",
       "<table border=\"1\" class=\"dataframe\">\n",
       "  <thead>\n",
       "    <tr style=\"text-align: right;\">\n",
       "      <th></th>\n",
       "      <th>Unnamed: 0</th>\n",
       "      <th>lon</th>\n",
       "      <th>lat</th>\n",
       "      <th>year</th>\n",
       "      <th>month</th>\n",
       "    </tr>\n",
       "  </thead>\n",
       "  <tbody>\n",
       "    <tr>\n",
       "      <th>count</th>\n",
       "      <td>18831.000000</td>\n",
       "      <td>18831.000000</td>\n",
       "      <td>18831.000000</td>\n",
       "      <td>18831.000000</td>\n",
       "      <td>18631.000000</td>\n",
       "    </tr>\n",
       "    <tr>\n",
       "      <th>mean</th>\n",
       "      <td>13932.851840</td>\n",
       "      <td>-16.996950</td>\n",
       "      <td>48.339809</td>\n",
       "      <td>1979.181987</td>\n",
       "      <td>4.241855</td>\n",
       "    </tr>\n",
       "    <tr>\n",
       "      <th>std</th>\n",
       "      <td>7193.459291</td>\n",
       "      <td>41.833026</td>\n",
       "      <td>15.696060</td>\n",
       "      <td>31.020235</td>\n",
       "      <td>2.433487</td>\n",
       "    </tr>\n",
       "    <tr>\n",
       "      <th>min</th>\n",
       "      <td>4.000000</td>\n",
       "      <td>-174.577100</td>\n",
       "      <td>-54.497000</td>\n",
       "      <td>1900.000000</td>\n",
       "      <td>1.000000</td>\n",
       "    </tr>\n",
       "    <tr>\n",
       "      <th>25%</th>\n",
       "      <td>8758.500000</td>\n",
       "      <td>-57.527400</td>\n",
       "      <td>44.450500</td>\n",
       "      <td>1966.000000</td>\n",
       "      <td>2.000000</td>\n",
       "    </tr>\n",
       "    <tr>\n",
       "      <th>50%</th>\n",
       "      <td>14708.000000</td>\n",
       "      <td>-4.544500</td>\n",
       "      <td>51.639900</td>\n",
       "      <td>1986.000000</td>\n",
       "      <td>4.000000</td>\n",
       "    </tr>\n",
       "    <tr>\n",
       "      <th>75%</th>\n",
       "      <td>19998.500000</td>\n",
       "      <td>4.000000</td>\n",
       "      <td>56.211300</td>\n",
       "      <td>2003.000000</td>\n",
       "      <td>6.000000</td>\n",
       "    </tr>\n",
       "    <tr>\n",
       "      <th>max</th>\n",
       "      <td>25179.000000</td>\n",
       "      <td>176.930000</td>\n",
       "      <td>76.533300</td>\n",
       "      <td>2020.000000</td>\n",
       "      <td>12.000000</td>\n",
       "    </tr>\n",
       "  </tbody>\n",
       "</table>\n",
       "</div>"
      ],
      "text/plain": [
       "         Unnamed: 0           lon           lat          year         month\n",
       "count  18831.000000  18831.000000  18831.000000  18831.000000  18631.000000\n",
       "mean   13932.851840    -16.996950     48.339809   1979.181987      4.241855\n",
       "std     7193.459291     41.833026     15.696060     31.020235      2.433487\n",
       "min        4.000000   -174.577100    -54.497000   1900.000000      1.000000\n",
       "25%     8758.500000    -57.527400     44.450500   1966.000000      2.000000\n",
       "50%    14708.000000     -4.544500     51.639900   1986.000000      4.000000\n",
       "75%    19998.500000      4.000000     56.211300   2003.000000      6.000000\n",
       "max    25179.000000    176.930000     76.533300   2020.000000     12.000000"
      ]
     },
     "execution_count": 3,
     "metadata": {},
     "output_type": "execute_result"
    }
   ],
   "source": [
    "results.describe()"
   ]
  },
  {
   "cell_type": "code",
   "execution_count": 13,
   "id": "e4df0270",
   "metadata": {},
   "outputs": [
    {
     "ename": "ValueError",
     "evalue": "Length of passed values is 120, index implies 3083.",
     "output_type": "error",
     "traceback": [
      "\u001b[0;31m---------------------------------------------------------------------------\u001b[0m",
      "\u001b[0;31mValueError\u001b[0m                                Traceback (most recent call last)",
      "\u001b[0;32m<ipython-input-13-78d28c260db4>\u001b[0m in \u001b[0;36m<module>\u001b[0;34m\u001b[0m\n\u001b[1;32m      1\u001b[0m results['Most_Common_Price'] = (\n\u001b[0;32m----> 2\u001b[0;31m     results.groupby('species')['year'].transform(lambda x: x.value_counts()))\n\u001b[0m",
      "\u001b[0;32m/usr/local/Caskroom/miniconda/base/envs/Selenium/lib/python3.8/site-packages/pandas/core/groupby/generic.py\u001b[0m in \u001b[0;36mtransform\u001b[0;34m(self, func, engine, engine_kwargs, *args, **kwargs)\u001b[0m\n\u001b[1;32m    505\u001b[0m \u001b[0;34m\u001b[0m\u001b[0m\n\u001b[1;32m    506\u001b[0m         \u001b[0;32mif\u001b[0m \u001b[0;32mnot\u001b[0m \u001b[0misinstance\u001b[0m\u001b[0;34m(\u001b[0m\u001b[0mfunc\u001b[0m\u001b[0;34m,\u001b[0m \u001b[0mstr\u001b[0m\u001b[0;34m)\u001b[0m\u001b[0;34m:\u001b[0m\u001b[0;34m\u001b[0m\u001b[0;34m\u001b[0m\u001b[0m\n\u001b[0;32m--> 507\u001b[0;31m             \u001b[0;32mreturn\u001b[0m \u001b[0mself\u001b[0m\u001b[0;34m.\u001b[0m\u001b[0m_transform_general\u001b[0m\u001b[0;34m(\u001b[0m\u001b[0mfunc\u001b[0m\u001b[0;34m,\u001b[0m \u001b[0;34m*\u001b[0m\u001b[0margs\u001b[0m\u001b[0;34m,\u001b[0m \u001b[0;34m**\u001b[0m\u001b[0mkwargs\u001b[0m\u001b[0;34m)\u001b[0m\u001b[0;34m\u001b[0m\u001b[0;34m\u001b[0m\u001b[0m\n\u001b[0m\u001b[1;32m    508\u001b[0m \u001b[0;34m\u001b[0m\u001b[0m\n\u001b[1;32m    509\u001b[0m         \u001b[0;32melif\u001b[0m \u001b[0mfunc\u001b[0m \u001b[0;32mnot\u001b[0m \u001b[0;32min\u001b[0m \u001b[0mbase\u001b[0m\u001b[0;34m.\u001b[0m\u001b[0mtransform_kernel_allowlist\u001b[0m\u001b[0;34m:\u001b[0m\u001b[0;34m\u001b[0m\u001b[0;34m\u001b[0m\u001b[0m\n",
      "\u001b[0;32m/usr/local/Caskroom/miniconda/base/envs/Selenium/lib/python3.8/site-packages/pandas/core/groupby/generic.py\u001b[0m in \u001b[0;36m_transform_general\u001b[0;34m(self, func, *args, **kwargs)\u001b[0m\n\u001b[1;32m    535\u001b[0m                 \u001b[0mres\u001b[0m \u001b[0;34m=\u001b[0m \u001b[0mres\u001b[0m\u001b[0;34m.\u001b[0m\u001b[0m_values\u001b[0m\u001b[0;34m\u001b[0m\u001b[0;34m\u001b[0m\u001b[0m\n\u001b[1;32m    536\u001b[0m \u001b[0;34m\u001b[0m\u001b[0m\n\u001b[0;32m--> 537\u001b[0;31m             \u001b[0mresults\u001b[0m\u001b[0;34m.\u001b[0m\u001b[0mappend\u001b[0m\u001b[0;34m(\u001b[0m\u001b[0mklass\u001b[0m\u001b[0;34m(\u001b[0m\u001b[0mres\u001b[0m\u001b[0;34m,\u001b[0m \u001b[0mindex\u001b[0m\u001b[0;34m=\u001b[0m\u001b[0mgroup\u001b[0m\u001b[0;34m.\u001b[0m\u001b[0mindex\u001b[0m\u001b[0;34m)\u001b[0m\u001b[0;34m)\u001b[0m\u001b[0;34m\u001b[0m\u001b[0;34m\u001b[0m\u001b[0m\n\u001b[0m\u001b[1;32m    538\u001b[0m \u001b[0;34m\u001b[0m\u001b[0m\n\u001b[1;32m    539\u001b[0m         \u001b[0;31m# check for empty \"results\" to avoid concat ValueError\u001b[0m\u001b[0;34m\u001b[0m\u001b[0;34m\u001b[0m\u001b[0;34m\u001b[0m\u001b[0m\n",
      "\u001b[0;32m/usr/local/Caskroom/miniconda/base/envs/Selenium/lib/python3.8/site-packages/pandas/core/series.py\u001b[0m in \u001b[0;36m__init__\u001b[0;34m(self, data, index, dtype, name, copy, fastpath)\u001b[0m\n\u001b[1;32m    348\u001b[0m                 \u001b[0;32mtry\u001b[0m\u001b[0;34m:\u001b[0m\u001b[0;34m\u001b[0m\u001b[0;34m\u001b[0m\u001b[0m\n\u001b[1;32m    349\u001b[0m                     \u001b[0;32mif\u001b[0m \u001b[0mlen\u001b[0m\u001b[0;34m(\u001b[0m\u001b[0mindex\u001b[0m\u001b[0;34m)\u001b[0m \u001b[0;34m!=\u001b[0m \u001b[0mlen\u001b[0m\u001b[0;34m(\u001b[0m\u001b[0mdata\u001b[0m\u001b[0;34m)\u001b[0m\u001b[0;34m:\u001b[0m\u001b[0;34m\u001b[0m\u001b[0;34m\u001b[0m\u001b[0m\n\u001b[0;32m--> 350\u001b[0;31m                         raise ValueError(\n\u001b[0m\u001b[1;32m    351\u001b[0m                             \u001b[0;34mf\"Length of passed values is {len(data)}, \"\u001b[0m\u001b[0;34m\u001b[0m\u001b[0;34m\u001b[0m\u001b[0m\n\u001b[1;32m    352\u001b[0m                             \u001b[0;34mf\"index implies {len(index)}.\"\u001b[0m\u001b[0;34m\u001b[0m\u001b[0;34m\u001b[0m\u001b[0m\n",
      "\u001b[0;31mValueError\u001b[0m: Length of passed values is 120, index implies 3083."
     ]
    }
   ],
   "source": [
    "results['Most_Common_Price'] = (\n",
    "    results.groupby('species')['year'].transform(lambda x: x.value_counts()))"
   ]
  },
  {
   "cell_type": "code",
   "execution_count": null,
   "id": "b43d6435",
   "metadata": {},
   "outputs": [],
   "source": [
    "results.head(10)"
   ]
  },
  {
   "cell_type": "code",
   "execution_count": null,
   "id": "0cd714e0",
   "metadata": {},
   "outputs": [],
   "source": [
    "results.to_csv(\"macroalgae_final2.csv\", index = False)"
   ]
  },
  {
   "cell_type": "code",
   "execution_count": null,
   "id": "4e4005df",
   "metadata": {},
   "outputs": [],
   "source": [
    "fucus['count'].max()"
   ]
  },
  {
   "cell_type": "code",
   "execution_count": null,
   "id": "7d8af469",
   "metadata": {},
   "outputs": [],
   "source": [
    "fucus = results[results['species'] == 'Fucus serratus']\n",
    "fig = px.line(results, x=\"year\", y = 'count', color = 'species')\n",
    "\n",
    "fig.update_layout({'plot_bgcolor': 'rgba(0, 0, 0, 0)',\n",
    "'paper_bgcolor': 'rgba(0, 0, 0, 0)'})\n",
    "\n",
    "fig.update_xaxes(showline=True, linewidth=2, linecolor='black')\n",
    "fig.update_yaxes(showline=True, linewidth=2, linecolor='black')\n",
    "\n",
    "fig.show()"
   ]
  },
  {
   "cell_type": "code",
   "execution_count": null,
   "id": "b167fd1d",
   "metadata": {},
   "outputs": [],
   "source": [
    "species = results[results['species'] == \"Fucus serratus\"]\n",
    "\n",
    "\n",
    "map_2 = folium.Map(location = [40.4146, -3.7004], tiles='CartoDB dark_matter',  zoom_start = 6)\n",
    "\n",
    "\n",
    "target_species = folium.FeatureGroup(name = \"species\")\n",
    "HeatMap(data=species[[\"lat\",\"lon\"]],radius=15).add_to(target_species)\n",
    "target_species.add_to(map_2)\n",
    "map_2"
   ]
  },
  {
   "cell_type": "code",
   "execution_count": null,
   "id": "731c5e45",
   "metadata": {},
   "outputs": [],
   "source": []
  }
 ],
 "metadata": {
  "kernelspec": {
   "display_name": "Selenium",
   "language": "python",
   "name": "selenium"
  },
  "language_info": {
   "codemirror_mode": {
    "name": "ipython",
    "version": 3
   },
   "file_extension": ".py",
   "mimetype": "text/x-python",
   "name": "python",
   "nbconvert_exporter": "python",
   "pygments_lexer": "ipython3",
   "version": "3.8.8"
  }
 },
 "nbformat": 4,
 "nbformat_minor": 5
}
