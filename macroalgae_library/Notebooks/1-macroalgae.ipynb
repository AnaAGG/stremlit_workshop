{
 "cells": [
  {
   "cell_type": "code",
   "execution_count": 3,
   "id": "2f2be0ea",
   "metadata": {},
   "outputs": [],
   "source": [
    "import sys\n",
    "sys.path.append('../')"
   ]
  },
  {
   "cell_type": "code",
   "execution_count": 4,
   "id": "100cfa62",
   "metadata": {},
   "outputs": [],
   "source": [
    "import warnings\n",
    "warnings.filterwarnings(\"ignore\")"
   ]
  },
  {
   "cell_type": "code",
   "execution_count": 5,
   "id": "b0712bc3",
   "metadata": {},
   "outputs": [],
   "source": [
    "import pandas as pd\n",
    "from pygbif import species\n",
    "from pygbif import occurrences as occ\n",
    "from geopy.geocoders import Nominatim\n",
    "\n",
    "import src.get_species as gs"
   ]
  },
  {
   "cell_type": "code",
   "execution_count": 8,
   "id": "06f22144",
   "metadata": {},
   "outputs": [],
   "source": [
    "sp_list = [\"Fucus serratus\", \"Ascophyllum nodosum\", \"Pelvetia canaliculata\", \"Bifurcaria bifurcata\",\n",
    "           \"Ulva lactuca\", \"Fucus vesiculosus\", \"Fucus spiralis\", \"Codium tomentosum\", \"Sargassum muticum\", \"Laminaria hyperborea\", \n",
    "          \"Palmaria palmata\", \"Alaria esculenta\", \"Laminaria digitata\", \"Himanthalia elongata\", \"Halidrys siliquosa\"\n",
    "          \"Saccharina latissima\", \"Undaria pinnatifida\", \"Codium fragile\", \"Gratelupia turuturu\"]"
   ]
  },
  {
   "cell_type": "code",
   "execution_count": 9,
   "id": "7bafe5bf",
   "metadata": {},
   "outputs": [],
   "source": [
    "sp, codes = gs.get_species_name_from_codes(sp_list)"
   ]
  },
  {
   "cell_type": "code",
   "execution_count": 10,
   "id": "693ce1be",
   "metadata": {},
   "outputs": [
    {
     "data": {
      "text/plain": [
       "{'Fucus serratus': 3196437,\n",
       " 'Ascophyllum nodosum': 3196524,\n",
       " 'Pelvetia canaliculata': 3196499,\n",
       " 'Bifurcaria bifurcata': 3197821,\n",
       " 'Ulva lactuca': 5273309,\n",
       " 'Fucus vesiculosus': 8222574,\n",
       " 'Fucus spiralis': 3196369,\n",
       " 'Codium tomentosum': 5272167,\n",
       " 'Sargassum muticum': 3197314,\n",
       " 'Laminaria hyperborea': 5422383,\n",
       " 'Palmaria palmata': 7843860,\n",
       " 'Alaria esculenta': 5422592,\n",
       " 'Laminaria digitata': 5422479,\n",
       " 'Himanthalia elongata': 3197836,\n",
       " 'Halidrys siliquosaSaccharina latissima': 8082072,\n",
       " 'Undaria pinnatifida': 5422556,\n",
       " 'Codium fragile': 5272096,\n",
       " 'Gratelupia turuturu': 2658889}"
      ]
     },
     "execution_count": 10,
     "metadata": {},
     "output_type": "execute_result"
    }
   ],
   "source": [
    "codes"
   ]
  },
  {
   "cell_type": "code",
   "execution_count": 11,
   "id": "dda584fe",
   "metadata": {},
   "outputs": [
    {
     "data": {
      "text/plain": [
       "[3196437,\n",
       " 3196524,\n",
       " 3196499,\n",
       " 3197821,\n",
       " 5273309,\n",
       " 8222574,\n",
       " 3196369,\n",
       " 5272167,\n",
       " 3197314,\n",
       " 5422383,\n",
       " 7843860,\n",
       " 5422592,\n",
       " 5422479,\n",
       " 3197836,\n",
       " 8082072,\n",
       " 5422556,\n",
       " 5272096,\n",
       " 2658889]"
      ]
     },
     "execution_count": 11,
     "metadata": {},
     "output_type": "execute_result"
    }
   ],
   "source": [
    "sp"
   ]
  },
  {
   "cell_type": "code",
   "execution_count": 19,
   "id": "e8368a90",
   "metadata": {},
   "outputs": [
    {
     "name": "stdout",
     "output_type": "stream",
     "text": [
      "CPU times: user 6.16 s, sys: 2.06 s, total: 8.22 s\n",
      "Wall time: 2min 51s\n"
     ]
    }
   ],
   "source": [
    "%%time\n",
    "results = gs.get_coordinates(sp)"
   ]
  },
  {
   "cell_type": "code",
   "execution_count": 20,
   "id": "1936284f",
   "metadata": {},
   "outputs": [],
   "source": [
    "results.to_csv(\"macroalgae_initial.csv\", index = False)"
   ]
  },
  {
   "cell_type": "code",
   "execution_count": 21,
   "id": "7325c64d",
   "metadata": {},
   "outputs": [],
   "source": [
    "results = pd.read_csv(\"macroalgae_initial.csv\")"
   ]
  },
  {
   "cell_type": "code",
   "execution_count": 22,
   "id": "c4194932",
   "metadata": {},
   "outputs": [
    {
     "data": {
      "text/html": [
       "<div>\n",
       "<style scoped>\n",
       "    .dataframe tbody tr th:only-of-type {\n",
       "        vertical-align: middle;\n",
       "    }\n",
       "\n",
       "    .dataframe tbody tr th {\n",
       "        vertical-align: top;\n",
       "    }\n",
       "\n",
       "    .dataframe thead th {\n",
       "        text-align: right;\n",
       "    }\n",
       "</style>\n",
       "<table border=\"1\" class=\"dataframe\">\n",
       "  <thead>\n",
       "    <tr style=\"text-align: right;\">\n",
       "      <th></th>\n",
       "      <th>lon</th>\n",
       "      <th>lat</th>\n",
       "      <th>locality</th>\n",
       "      <th>year</th>\n",
       "      <th>month</th>\n",
       "      <th>kingdom</th>\n",
       "      <th>class</th>\n",
       "      <th>family</th>\n",
       "      <th>genus</th>\n",
       "      <th>species</th>\n",
       "    </tr>\n",
       "  </thead>\n",
       "  <tbody>\n",
       "    <tr>\n",
       "      <th>0</th>\n",
       "      <td>1.60648</td>\n",
       "      <td>50.77092</td>\n",
       "      <td>NaN</td>\n",
       "      <td>1900</td>\n",
       "      <td>1.0</td>\n",
       "      <td>Chromista</td>\n",
       "      <td>Phaeophyceae</td>\n",
       "      <td>Laminariaceae</td>\n",
       "      <td>Laminaria</td>\n",
       "      <td>Laminaria flexicaulis Le Jol.</td>\n",
       "    </tr>\n",
       "    <tr>\n",
       "      <th>1</th>\n",
       "      <td>1.61021</td>\n",
       "      <td>50.76952</td>\n",
       "      <td>NaN</td>\n",
       "      <td>1900</td>\n",
       "      <td>1.0</td>\n",
       "      <td>Chromista</td>\n",
       "      <td>Phaeophyceae</td>\n",
       "      <td>Laminariaceae</td>\n",
       "      <td>Laminaria</td>\n",
       "      <td>Laminaria flexicaulis Le Jol.</td>\n",
       "    </tr>\n",
       "    <tr>\n",
       "      <th>2</th>\n",
       "      <td>NaN</td>\n",
       "      <td>NaN</td>\n",
       "      <td>NaN</td>\n",
       "      <td>1900</td>\n",
       "      <td>1.0</td>\n",
       "      <td>Plantae</td>\n",
       "      <td>Ulvophyceae</td>\n",
       "      <td>Ulvaceae</td>\n",
       "      <td>Ulva</td>\n",
       "      <td>Ulva fasciata Delile</td>\n",
       "    </tr>\n",
       "    <tr>\n",
       "      <th>3</th>\n",
       "      <td>NaN</td>\n",
       "      <td>NaN</td>\n",
       "      <td>Dorchester</td>\n",
       "      <td>1900</td>\n",
       "      <td>1.0</td>\n",
       "      <td>Chromista</td>\n",
       "      <td>Phaeophyceae</td>\n",
       "      <td>Fucaceae</td>\n",
       "      <td>Fucus</td>\n",
       "      <td>Fucus vesiculosus L.</td>\n",
       "    </tr>\n",
       "    <tr>\n",
       "      <th>4</th>\n",
       "      <td>NaN</td>\n",
       "      <td>NaN</td>\n",
       "      <td>Waialua, oahu</td>\n",
       "      <td>1900</td>\n",
       "      <td>1.0</td>\n",
       "      <td>Plantae</td>\n",
       "      <td>Ulvophyceae</td>\n",
       "      <td>Ulvaceae</td>\n",
       "      <td>Ulva</td>\n",
       "      <td>Ulva fasciata Delile</td>\n",
       "    </tr>\n",
       "  </tbody>\n",
       "</table>\n",
       "</div>"
      ],
      "text/plain": [
       "       lon       lat       locality  year  month    kingdom         class  \\\n",
       "0  1.60648  50.77092            NaN  1900    1.0  Chromista  Phaeophyceae   \n",
       "1  1.61021  50.76952            NaN  1900    1.0  Chromista  Phaeophyceae   \n",
       "2      NaN       NaN            NaN  1900    1.0    Plantae   Ulvophyceae   \n",
       "3      NaN       NaN     Dorchester  1900    1.0  Chromista  Phaeophyceae   \n",
       "4      NaN       NaN  Waialua, oahu  1900    1.0    Plantae   Ulvophyceae   \n",
       "\n",
       "          family      genus                        species  \n",
       "0  Laminariaceae  Laminaria  Laminaria flexicaulis Le Jol.  \n",
       "1  Laminariaceae  Laminaria  Laminaria flexicaulis Le Jol.  \n",
       "2       Ulvaceae       Ulva           Ulva fasciata Delile  \n",
       "3       Fucaceae      Fucus           Fucus vesiculosus L.  \n",
       "4       Ulvaceae       Ulva           Ulva fasciata Delile  "
      ]
     },
     "execution_count": 22,
     "metadata": {},
     "output_type": "execute_result"
    }
   ],
   "source": [
    "results.head()"
   ]
  },
  {
   "cell_type": "code",
   "execution_count": 23,
   "id": "0b0ad5d2",
   "metadata": {},
   "outputs": [],
   "source": [
    "results = gs.clean(results)"
   ]
  },
  {
   "cell_type": "code",
   "execution_count": 24,
   "id": "73359933",
   "metadata": {},
   "outputs": [],
   "source": [
    "results = gs.divide_species(results, \"species\")"
   ]
  },
  {
   "cell_type": "code",
   "execution_count": 25,
   "id": "9eac67c8",
   "metadata": {
    "scrolled": true
   },
   "outputs": [
    {
     "data": {
      "text/html": [
       "<div>\n",
       "<style scoped>\n",
       "    .dataframe tbody tr th:only-of-type {\n",
       "        vertical-align: middle;\n",
       "    }\n",
       "\n",
       "    .dataframe tbody tr th {\n",
       "        vertical-align: top;\n",
       "    }\n",
       "\n",
       "    .dataframe thead th {\n",
       "        text-align: right;\n",
       "    }\n",
       "</style>\n",
       "<table border=\"1\" class=\"dataframe\">\n",
       "  <thead>\n",
       "    <tr style=\"text-align: right;\">\n",
       "      <th></th>\n",
       "      <th>lon</th>\n",
       "      <th>lat</th>\n",
       "      <th>locality</th>\n",
       "      <th>year</th>\n",
       "      <th>month</th>\n",
       "      <th>kingdom</th>\n",
       "      <th>class</th>\n",
       "      <th>family</th>\n",
       "      <th>genus</th>\n",
       "      <th>species</th>\n",
       "    </tr>\n",
       "  </thead>\n",
       "  <tbody>\n",
       "    <tr>\n",
       "      <th>0</th>\n",
       "      <td>1.6065</td>\n",
       "      <td>50.7709</td>\n",
       "      <td>NaN</td>\n",
       "      <td>1900</td>\n",
       "      <td>1.0</td>\n",
       "      <td>Chromista</td>\n",
       "      <td>Phaeophyceae</td>\n",
       "      <td>Laminariaceae</td>\n",
       "      <td>Laminaria</td>\n",
       "      <td>Laminaria flexicaulis</td>\n",
       "    </tr>\n",
       "    <tr>\n",
       "      <th>1</th>\n",
       "      <td>1.6102</td>\n",
       "      <td>50.7695</td>\n",
       "      <td>NaN</td>\n",
       "      <td>1900</td>\n",
       "      <td>1.0</td>\n",
       "      <td>Chromista</td>\n",
       "      <td>Phaeophyceae</td>\n",
       "      <td>Laminariaceae</td>\n",
       "      <td>Laminaria</td>\n",
       "      <td>Laminaria flexicaulis</td>\n",
       "    </tr>\n",
       "    <tr>\n",
       "      <th>6</th>\n",
       "      <td>-158.1254</td>\n",
       "      <td>21.5714</td>\n",
       "      <td>Waialua, Oahu, HI</td>\n",
       "      <td>1900</td>\n",
       "      <td>1.0</td>\n",
       "      <td>Plantae</td>\n",
       "      <td>Ulvophyceae</td>\n",
       "      <td>Codiaceae</td>\n",
       "      <td>Codium</td>\n",
       "      <td>Codium tomentosum</td>\n",
       "    </tr>\n",
       "    <tr>\n",
       "      <th>7</th>\n",
       "      <td>-158.1254</td>\n",
       "      <td>21.5714</td>\n",
       "      <td>Waialua, Oahu, HI</td>\n",
       "      <td>1900</td>\n",
       "      <td>1.0</td>\n",
       "      <td>Plantae</td>\n",
       "      <td>Ulvophyceae</td>\n",
       "      <td>Ulvaceae</td>\n",
       "      <td>Ulva</td>\n",
       "      <td>Ulva fasciata</td>\n",
       "    </tr>\n",
       "    <tr>\n",
       "      <th>21</th>\n",
       "      <td>-158.1830</td>\n",
       "      <td>21.4333</td>\n",
       "      <td>Waianae</td>\n",
       "      <td>1900</td>\n",
       "      <td>5.0</td>\n",
       "      <td>Plantae</td>\n",
       "      <td>Ulvophyceae</td>\n",
       "      <td>Ulvaceae</td>\n",
       "      <td>Ulva</td>\n",
       "      <td>Ulva lactuca</td>\n",
       "    </tr>\n",
       "  </tbody>\n",
       "</table>\n",
       "</div>"
      ],
      "text/plain": [
       "         lon      lat           locality  year  month    kingdom  \\\n",
       "0     1.6065  50.7709                NaN  1900    1.0  Chromista   \n",
       "1     1.6102  50.7695                NaN  1900    1.0  Chromista   \n",
       "6  -158.1254  21.5714  Waialua, Oahu, HI  1900    1.0    Plantae   \n",
       "7  -158.1254  21.5714  Waialua, Oahu, HI  1900    1.0    Plantae   \n",
       "21 -158.1830  21.4333            Waianae  1900    5.0    Plantae   \n",
       "\n",
       "           class         family      genus                species  \n",
       "0   Phaeophyceae  Laminariaceae  Laminaria  Laminaria flexicaulis  \n",
       "1   Phaeophyceae  Laminariaceae  Laminaria  Laminaria flexicaulis  \n",
       "6    Ulvophyceae      Codiaceae     Codium      Codium tomentosum  \n",
       "7    Ulvophyceae       Ulvaceae       Ulva          Ulva fasciata  \n",
       "21   Ulvophyceae       Ulvaceae       Ulva           Ulva lactuca  "
      ]
     },
     "execution_count": 25,
     "metadata": {},
     "output_type": "execute_result"
    }
   ],
   "source": [
    "results.head()"
   ]
  },
  {
   "cell_type": "code",
   "execution_count": 26,
   "id": "2419d308",
   "metadata": {},
   "outputs": [
    {
     "data": {
      "text/plain": [
       "array(['Laminaria flexicaulis', 'Codium tomentosum', 'Ulva fasciata',\n",
       "       'Ulva lactuca', 'Pelvetia canaliculata', 'Fucus vesiculosus',\n",
       "       'Palmaria palmata', 'Laminaria stenophylla', 'Alaria esculenta',\n",
       "       'Ascophyllum nodosum', 'Fucus spiralis', 'Himanthalia elongata',\n",
       "       'Laminaria digitata', 'Halidrys siliquosa', 'Fucus serratus',\n",
       "       'Laminaria hyperborea', 'Rhodymenia palmata', 'Fucus platycarpus',\n",
       "       'Alaria musaefolia', 'Fucus canaliculatus', 'Undaria pinnatifida',\n",
       "       'Codium fragile', 'Laminaria intermedia', 'Palmaria mollis',\n",
       "       'Bifurcaria bifurcata', 'Fucus inflatus', 'Alaria grandifolia',\n",
       "       'Halidrys dioica', 'Alaria dolichorhachis', 'Halidrys Lyngbye,',\n",
       "       'Fucus rotundatus', 'Ascophyllum mackaii', 'Grateloupia turuturu',\n",
       "       'Sargassum muticum', 'Fucus nodosus', 'Fucus mytili',\n",
       "       'Codium mucronatum', 'BOLD:AAD7070', 'BOLD:AAB0883'], dtype=object)"
      ]
     },
     "execution_count": 26,
     "metadata": {},
     "output_type": "execute_result"
    }
   ],
   "source": [
    "results.species.unique()"
   ]
  },
  {
   "cell_type": "markdown",
   "id": "8d93387b",
   "metadata": {},
   "source": [
    "Laminaria flexicaulis ==> eliminarla\n",
    "\n",
    "Ulva fasciata ==> Ulva lactuca \n",
    "\n",
    "Laminaria stenophylla ==> Laminaria digitata\n",
    "\n",
    "Rhodymenia palmata ==> Palmaria palmata\n",
    "\n",
    "Fucus platycarpus ==> Fucus spiralis\n",
    "\n",
    "Alaria musaefolia == > Alaria esculenta\n",
    "\n",
    "Fucus canaliculatus ==> Fucus vesiculosus\n",
    "\n",
    "Laminaria intermedia ==> Laminaria digitata\n",
    "\n",
    "Palmaria mollis ==> eliminar\n",
    "\n",
    "Fucus inflatus ==> Fucus vesiculosus\n",
    "\n",
    "Alaria grandifolia ==> Alaria esculenta\n",
    "\n",
    "Halidrys dioica ==> eliminarla\n",
    "\n",
    "Alaria dolichorhachis ==> Alaria esculenta\n",
    "\n",
    "Halidrys Lyngbye ==> eliminarla\n",
    "\n",
    "Fucus rotundatus ==> eliminarla\n",
    "\n",
    "Ascophyllum mackaii ==> eliminarla\n",
    "\n",
    "Fucus nodosus ==> Ascophyllum nodosum\n",
    "\n",
    "Fucus mytili == Fucus vesiculosus\n",
    "\n",
    "BOLD:AAB0883 ==> eliminar"
   ]
  },
  {
   "cell_type": "code",
   "execution_count": 27,
   "id": "e21d07d2",
   "metadata": {},
   "outputs": [],
   "source": [
    "final = gs.clean_species(results, \"species\")"
   ]
  },
  {
   "cell_type": "code",
   "execution_count": null,
   "id": "ffdf2516",
   "metadata": {},
   "outputs": [],
   "source": [
    "final[\"new\"] = final[\"lat\"].map(str) + \",\" + final[\"lon\"].map(str)\n",
    "final[\"locality\"] = final.new.apply(gs.get_community)"
   ]
  },
  {
   "cell_type": "code",
   "execution_count": null,
   "id": "9bf7ec26",
   "metadata": {},
   "outputs": [],
   "source": [
    "final.head()"
   ]
  },
  {
   "cell_type": "code",
   "execution_count": null,
   "id": "52b05e49",
   "metadata": {},
   "outputs": [],
   "source": [
    "final2 = final[final[\"locality\"] != \"unknown\"]"
   ]
  },
  {
   "cell_type": "code",
   "execution_count": null,
   "id": "2d10c390",
   "metadata": {},
   "outputs": [],
   "source": [
    "final2.head()"
   ]
  },
  {
   "cell_type": "code",
   "execution_count": null,
   "id": "cd7064d1",
   "metadata": {},
   "outputs": [],
   "source": [
    "final2[['locality', 'state', \"country\"]] = pd.DataFrame(final2['locality'].tolist(), index=final2.index)"
   ]
  },
  {
   "cell_type": "code",
   "execution_count": null,
   "id": "11a35e88",
   "metadata": {},
   "outputs": [],
   "source": [
    "final2.head()"
   ]
  },
  {
   "cell_type": "code",
   "execution_count": null,
   "id": "6aef386e",
   "metadata": {},
   "outputs": [],
   "source": [
    "final2.to_csv(\"macroalgae_final.csv\")"
   ]
  },
  {
   "cell_type": "code",
   "execution_count": null,
   "id": "101d2073",
   "metadata": {},
   "outputs": [],
   "source": []
  }
 ],
 "metadata": {
  "kernelspec": {
   "display_name": "Selenium",
   "language": "python",
   "name": "selenium"
  },
  "language_info": {
   "codemirror_mode": {
    "name": "ipython",
    "version": 3
   },
   "file_extension": ".py",
   "mimetype": "text/x-python",
   "name": "python",
   "nbconvert_exporter": "python",
   "pygments_lexer": "ipython3",
   "version": "3.8.8"
  }
 },
 "nbformat": 4,
 "nbformat_minor": 5
}
