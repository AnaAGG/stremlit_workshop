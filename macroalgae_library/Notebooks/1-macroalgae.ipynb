{
 "cells": [
  {
   "cell_type": "markdown",
   "id": "1cb0b9dd",
   "metadata": {
    "toc": true
   },
   "source": [
    "<h1>Table of Contents<span class=\"tocSkip\"></span></h1>\n",
    "<div class=\"toc\"><ul class=\"toc-item\"><li><span><a href=\"#Libraries\" data-toc-modified-id=\"Libraries-1\"><span class=\"toc-item-num\">1&nbsp;&nbsp;</span>Libraries</a></span></li><li><span><a href=\"#Download-species-coordinates\" data-toc-modified-id=\"Download-species-coordinates-2\"><span class=\"toc-item-num\">2&nbsp;&nbsp;</span>Download species coordinates</a></span><ul class=\"toc-item\"><li><span><a href=\"#Species-list\" data-toc-modified-id=\"Species-list-2.1\"><span class=\"toc-item-num\">2.1&nbsp;&nbsp;</span>Species list</a></span></li><li><span><a href=\"#Get-the-species-codes-to-the-GBIF-API\" data-toc-modified-id=\"Get-the-species-codes-to-the-GBIF-API-2.2\"><span class=\"toc-item-num\">2.2&nbsp;&nbsp;</span>Get the species codes to the GBIF API</a></span></li><li><span><a href=\"#Get-coordinates\" data-toc-modified-id=\"Get-coordinates-2.3\"><span class=\"toc-item-num\">2.3&nbsp;&nbsp;</span>Get coordinates</a></span></li><li><span><a href=\"#Clean-species-dataframe\" data-toc-modified-id=\"Clean-species-dataframe-2.4\"><span class=\"toc-item-num\">2.4&nbsp;&nbsp;</span>Clean species dataframe</a></span></li></ul></li></ul></div>"
   ]
  },
  {
   "cell_type": "markdown",
   "id": "8fc6df69",
   "metadata": {},
   "source": [
    "# Libraries"
   ]
  },
  {
   "cell_type": "code",
   "execution_count": null,
   "id": "2f2be0ea",
   "metadata": {},
   "outputs": [],
   "source": [
    "import sys\n",
    "sys.path.append('../')"
   ]
  },
  {
   "cell_type": "code",
   "execution_count": null,
   "id": "100cfa62",
   "metadata": {},
   "outputs": [],
   "source": [
    "import warnings\n",
    "warnings.filterwarnings(\"ignore\")"
   ]
  },
  {
   "cell_type": "code",
   "execution_count": null,
   "id": "b0712bc3",
   "metadata": {},
   "outputs": [],
   "source": [
    "import pandas as pd\n",
    "from pygbif import species\n",
    "from pygbif import occurrences as occ\n",
    "from geopy.geocoders import Nominatim\n",
    "import src.get_species as gs"
   ]
  },
  {
   "cell_type": "markdown",
   "id": "8e52475a",
   "metadata": {},
   "source": [
    "# Download species coordinates "
   ]
  },
  {
   "cell_type": "markdown",
   "id": "9071dc17",
   "metadata": {},
   "source": [
    "## Species list "
   ]
  },
  {
   "cell_type": "code",
   "execution_count": null,
   "id": "06f22144",
   "metadata": {},
   "outputs": [],
   "source": [
    "sp_list = [\"Fucus serratus\", \"Ascophyllum nodosum\", \"Pelvetia canaliculata\", \"Bifurcaria bifurcata\",\n",
    "           \"Ulva lactuca\", \"Fucus vesiculosus\", \"Fucus spiralis\", \"Codium tomentosum\", \"Sargassum muticum\", \"Laminaria hyperborea\", \n",
    "          \"Palmaria palmata\", \"Alaria esculenta\", \"Laminaria digitata\", \"Himanthalia elongata\", \"Halidrys siliquosa\"\n",
    "          \"Saccharina latissima\", \"Undaria pinnatifida\", \"Codium fragile\", \"Gratelupia turuturu\"]"
   ]
  },
  {
   "cell_type": "markdown",
   "id": "71cf8b82",
   "metadata": {},
   "source": [
    "## Get the species codes to the GBIF API "
   ]
  },
  {
   "cell_type": "code",
   "execution_count": null,
   "id": "7bafe5bf",
   "metadata": {},
   "outputs": [],
   "source": [
    "sp, codes = gs.get_species_name_from_codes(sp_list)"
   ]
  },
  {
   "cell_type": "code",
   "execution_count": null,
   "id": "693ce1be",
   "metadata": {},
   "outputs": [],
   "source": [
    "codes"
   ]
  },
  {
   "cell_type": "code",
   "execution_count": null,
   "id": "dda584fe",
   "metadata": {},
   "outputs": [],
   "source": [
    "sp"
   ]
  },
  {
   "cell_type": "markdown",
   "id": "8cab6765",
   "metadata": {},
   "source": [
    "## Get coordinates"
   ]
  },
  {
   "cell_type": "code",
   "execution_count": null,
   "id": "e8368a90",
   "metadata": {},
   "outputs": [],
   "source": [
    "%%time\n",
    "results = gs.get_coordinates(sp)"
   ]
  },
  {
   "cell_type": "code",
   "execution_count": null,
   "id": "1936284f",
   "metadata": {},
   "outputs": [],
   "source": [
    "results.to_csv(\"macroalgae_initial.csv\", index = False)"
   ]
  },
  {
   "cell_type": "code",
   "execution_count": null,
   "id": "7325c64d",
   "metadata": {},
   "outputs": [],
   "source": [
    "results = pd.read_csv(\"macroalgae_initial.csv\")"
   ]
  },
  {
   "cell_type": "markdown",
   "id": "5e2a43e7",
   "metadata": {},
   "source": [
    "## Clean species dataframe "
   ]
  },
  {
   "cell_type": "markdown",
   "id": "1a91f668",
   "metadata": {},
   "source": [
    "Drop NaN and round latitude and longitude to 4 decimals"
   ]
  },
  {
   "cell_type": "code",
   "execution_count": null,
   "id": "0b0ad5d2",
   "metadata": {},
   "outputs": [],
   "source": [
    "results = gs.clean(results)"
   ]
  },
  {
   "cell_type": "markdown",
   "id": "4764cbaa",
   "metadata": {},
   "source": [
    "Clean species names"
   ]
  },
  {
   "cell_type": "code",
   "execution_count": null,
   "id": "73359933",
   "metadata": {},
   "outputs": [],
   "source": [
    "results = gs.divide_species(results, \"species\")"
   ]
  },
  {
   "cell_type": "markdown",
   "id": "8d93387b",
   "metadata": {},
   "source": [
    "Laminaria flexicaulis ==> eliminarla\n",
    "\n",
    "Ulva fasciata ==> Ulva lactuca \n",
    "\n",
    "Laminaria stenophylla ==> Laminaria digitata\n",
    "\n",
    "Rhodymenia palmata ==> Palmaria palmata\n",
    "\n",
    "Fucus platycarpus ==> Fucus spiralis\n",
    "\n",
    "Alaria musaefolia == > Alaria esculenta\n",
    "\n",
    "Fucus canaliculatus ==> Fucus vesiculosus\n",
    "\n",
    "Laminaria intermedia ==> Laminaria digitata\n",
    "\n",
    "Palmaria mollis ==> eliminar\n",
    "\n",
    "Fucus inflatus ==> Fucus vesiculosus\n",
    "\n",
    "Alaria grandifolia ==> Alaria esculenta\n",
    "\n",
    "Halidrys dioica ==> eliminarla\n",
    "\n",
    "Alaria dolichorhachis ==> Alaria esculenta\n",
    "\n",
    "Halidrys Lyngbye ==> eliminarla\n",
    "\n",
    "Fucus rotundatus ==> eliminarla\n",
    "\n",
    "Ascophyllum mackaii ==> eliminarla\n",
    "\n",
    "Fucus nodosus ==> Ascophyllum nodosum\n",
    "\n",
    "Fucus mytili == Fucus vesiculosus\n",
    "\n",
    "BOLD:AAB0883 ==> eliminar"
   ]
  },
  {
   "cell_type": "markdown",
   "id": "85401817",
   "metadata": {},
   "source": [
    "Some species are defined with old taxonomy, with this function what I do is to change the old names for the currently accepted ones."
   ]
  },
  {
   "cell_type": "code",
   "execution_count": null,
   "id": "e21d07d2",
   "metadata": {},
   "outputs": [],
   "source": [
    "final = gs.clean_species(results, \"species\")"
   ]
  },
  {
   "cell_type": "markdown",
   "id": "105815b7",
   "metadata": {},
   "source": [
    "Extract the community of given coordinates."
   ]
  },
  {
   "cell_type": "code",
   "execution_count": null,
   "id": "ffdf2516",
   "metadata": {},
   "outputs": [],
   "source": [
    "final[\"new\"] = final[\"lat\"].map(str) + \",\" + final[\"lon\"].map(str)\n",
    "final[\"locality\"] = final.new.apply(gs.get_community)"
   ]
  },
  {
   "cell_type": "markdown",
   "id": "4bc4481e",
   "metadata": {},
   "source": [
    "Remove those columns that dont have locality"
   ]
  },
  {
   "cell_type": "code",
   "execution_count": null,
   "id": "52b05e49",
   "metadata": {},
   "outputs": [],
   "source": [
    "final2 = final[final[\"locality\"] != \"unknown\"]"
   ]
  },
  {
   "cell_type": "code",
   "execution_count": null,
   "id": "cd7064d1",
   "metadata": {},
   "outputs": [],
   "source": [
    "final2[['locality', 'state', \"country\"]] = pd.DataFrame(final2['locality'].tolist(), index=final2.index)"
   ]
  },
  {
   "cell_type": "code",
   "execution_count": null,
   "id": "6aef386e",
   "metadata": {},
   "outputs": [],
   "source": [
    "final2.to_csv(\"macroalgae_final.csv\")"
   ]
  },
  {
   "cell_type": "code",
   "execution_count": null,
   "id": "101d2073",
   "metadata": {},
   "outputs": [],
   "source": []
  }
 ],
 "metadata": {
  "kernelspec": {
   "display_name": "Selenium",
   "language": "python",
   "name": "selenium"
  },
  "language_info": {
   "codemirror_mode": {
    "name": "ipython",
    "version": 3
   },
   "file_extension": ".py",
   "mimetype": "text/x-python",
   "name": "python",
   "nbconvert_exporter": "python",
   "pygments_lexer": "ipython3",
   "version": "3.8.8"
  },
  "toc": {
   "base_numbering": 1,
   "nav_menu": {},
   "number_sections": true,
   "sideBar": true,
   "skip_h1_title": false,
   "title_cell": "Table of Contents",
   "title_sidebar": "Contents",
   "toc_cell": true,
   "toc_position": {},
   "toc_section_display": true,
   "toc_window_display": false
  }
 },
 "nbformat": 4,
 "nbformat_minor": 5
}
