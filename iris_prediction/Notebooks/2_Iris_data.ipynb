{
 "cells": [
  {
   "cell_type": "markdown",
   "id": "c9a4e1c0",
   "metadata": {
    "toc": true
   },
   "source": [
    "<h1>Table of Contents<span class=\"tocSkip\"></span></h1>\n",
    "<div class=\"toc\"><ul class=\"toc-item\"><li><span><a href=\"#Libraries\" data-toc-modified-id=\"Libraries-1\"><span class=\"toc-item-num\">1&nbsp;&nbsp;</span>Libraries</a></span></li><li><span><a href=\"#Load-data\" data-toc-modified-id=\"Load-data-2\"><span class=\"toc-item-num\">2&nbsp;&nbsp;</span>Load data</a></span><ul class=\"toc-item\"><li><span><a href=\"#Explore-de-data\" data-toc-modified-id=\"Explore-de-data-2.1\"><span class=\"toc-item-num\">2.1&nbsp;&nbsp;</span>Explore de data</a></span></li><li><span><a href=\"#Data-Visualization\" data-toc-modified-id=\"Data-Visualization-2.2\"><span class=\"toc-item-num\">2.2&nbsp;&nbsp;</span>Data Visualization</a></span></li></ul></li><li><span><a href=\"#Predictive-model\" data-toc-modified-id=\"Predictive-model-3\"><span class=\"toc-item-num\">3&nbsp;&nbsp;</span>Predictive model</a></span><ul class=\"toc-item\"><li><span><a href=\"#Run-different-algorithms-on-training-dataset\" data-toc-modified-id=\"Run-different-algorithms-on-training-dataset-3.1\"><span class=\"toc-item-num\">3.1&nbsp;&nbsp;</span>Run different algorithms on training dataset</a></span></li><li><span><a href=\"#Comparing-Algorithms\" data-toc-modified-id=\"Comparing-Algorithms-3.2\"><span class=\"toc-item-num\">3.2&nbsp;&nbsp;</span>Comparing Algorithms</a></span></li><li><span><a href=\"#Make-predictions-on-Validation-dataset\" data-toc-modified-id=\"Make-predictions-on-Validation-dataset-3.3\"><span class=\"toc-item-num\">3.3&nbsp;&nbsp;</span>Make predictions on Validation dataset</a></span></li></ul></li><li><span><a href=\"#Save-the-model\" data-toc-modified-id=\"Save-the-model-4\"><span class=\"toc-item-num\">4&nbsp;&nbsp;</span>Save the model</a></span></li></ul></div>"
   ]
  },
  {
   "cell_type": "markdown",
   "id": "6c7f02bd",
   "metadata": {},
   "source": [
    "# Libraries "
   ]
  },
  {
   "cell_type": "code",
   "execution_count": null,
   "id": "97d13391",
   "metadata": {},
   "outputs": [],
   "source": [
    "import pandas as pd\n",
    "from sklearn import datasets\n",
    "from pandas.plotting import scatter_matrix\n",
    "import matplotlib.pyplot as plt\n",
    "from sklearn import model_selection\n",
    "from sklearn.metrics import classification_report\n",
    "from sklearn.metrics import confusion_matrix\n",
    "from sklearn.metrics import accuracy_score\n",
    "from sklearn.linear_model import LogisticRegression\n",
    "from sklearn.tree import DecisionTreeClassifier\n",
    "from sklearn.neighbors import KNeighborsClassifier\n",
    "from sklearn.ensemble import RandomForestClassifier\n",
    "from sklearn.svm import SVC\n",
    "from sklearn.naive_bayes import GaussianNB\n",
    "from sklearn.svm import SVC\n",
    "import matplotlib.pyplot as plt \n",
    "import pickle"
   ]
  },
  {
   "cell_type": "markdown",
   "id": "872bd9a9",
   "metadata": {},
   "source": [
    "# Load data"
   ]
  },
  {
   "cell_type": "code",
   "execution_count": null,
   "id": "102e77f1",
   "metadata": {
    "scrolled": true
   },
   "outputs": [],
   "source": [
    "data =  datasets.load_iris()\n",
    "df = pd.DataFrame(data.data, columns = data.feature_names)\n",
    "df.head()"
   ]
  },
  {
   "cell_type": "code",
   "execution_count": null,
   "id": "f6a4da51",
   "metadata": {},
   "outputs": [],
   "source": [
    "df2 = pd.DataFrame(data.target, columns = [\"target\"])"
   ]
  },
  {
   "cell_type": "code",
   "execution_count": null,
   "id": "55394492",
   "metadata": {},
   "outputs": [],
   "source": [
    "final = df.join(df2)"
   ]
  },
  {
   "cell_type": "markdown",
   "id": "00904ee9",
   "metadata": {},
   "source": [
    "## Explore de data"
   ]
  },
  {
   "cell_type": "code",
   "execution_count": null,
   "id": "5f1822ad",
   "metadata": {},
   "outputs": [],
   "source": [
    "#Statistical Summary of the Dataset\n",
    "print(\"\\n\\nStatistical Summary\\n\")\n",
    "display(final.describe())               \n",
    "print('\\n')"
   ]
  },
  {
   "cell_type": "markdown",
   "id": "f6415e6a",
   "metadata": {},
   "source": [
    "## Data Visualization "
   ]
  },
  {
   "cell_type": "code",
   "execution_count": null,
   "id": "21913353",
   "metadata": {},
   "outputs": [],
   "source": [
    "final.columns"
   ]
  },
  {
   "cell_type": "code",
   "execution_count": null,
   "id": "63d68bbf",
   "metadata": {},
   "outputs": [],
   "source": [
    "final.hist(edgecolor='black', linewidth=1.2)\n",
    "plt.show()\n",
    "\n",
    "#Box and Whisper Plots\n",
    "final.plot(kind='box',subplots=True,layout=(2,2), sharex=False,sharey=False,title=\"Boxplot(Class vs cm)\")\n",
    "plt.show()\n",
    "\n",
    "#Multivariate Plot \n",
    "final.plot(kind=\"scatter\", x=\"sepal length (cm)\", y=\"sepal width (cm)\")\n",
    "plt.title(\"sepal length (cm) vs sepal width (cm)\")\n",
    "plt.show()\n",
    "\n",
    "final.plot(kind=\"scatter\", x=\"petal length (cm)\", y=\"petal width (cm)\")\n",
    "plt.title(\"petal length (cm) vs petal width (cm)\")\n",
    "plt.show()"
   ]
  },
  {
   "cell_type": "markdown",
   "id": "e905bd5a",
   "metadata": {},
   "source": [
    "# Predictive model"
   ]
  },
  {
   "cell_type": "code",
   "execution_count": null,
   "id": "281c7cf6",
   "metadata": {},
   "outputs": [],
   "source": [
    "final.head()"
   ]
  },
  {
   "cell_type": "code",
   "execution_count": null,
   "id": "cb76a25c",
   "metadata": {},
   "outputs": [],
   "source": [
    "# define the x,y variables\n",
    "y = final[\"target\"]\n",
    "X = final.drop([\"target\"], axis = 1)\n",
    "\n",
    "#With model_selection.train_test_split imported from sklearn, we can split data into test and train sets\n",
    "X_train, X_test, Y_train, Y_test = model_selection.train_test_split(X, y, test_size=0.2)"
   ]
  },
  {
   "cell_type": "markdown",
   "id": "c9682629",
   "metadata": {},
   "source": [
    "## Run different algorithms on training dataset\n",
    " "
   ]
  },
  {
   "cell_type": "code",
   "execution_count": null,
   "id": "47a6267d",
   "metadata": {},
   "outputs": [],
   "source": [
    "#Linear(LR, LDA) & Non Linear (KNN, CART, NB, SVM)\n",
    "models = []\n",
    "models.append(('LR', LogisticRegression( multi_class='ovr')))\n",
    "models.append(('RDF', RandomForestClassifier()))\n",
    "models.append(('KNN', KNeighborsClassifier()))\n",
    "models.append(('CART', DecisionTreeClassifier()))\n",
    "models.append(('NB', GaussianNB()))\n",
    "models.append(('SVM', SVC(gamma='auto')))\n",
    "#Evaluate each model in turn\n",
    "results = []\n",
    "names = []\n",
    "print(\"Model\\t\",\"Mean\\t\\t\",\"Std\")\n",
    "for name, model in models: \n",
    "    kfold = model_selection.KFold(n_splits=10)\n",
    "    cv_results = model_selection.cross_val_score(model, X_train, Y_train, cv=kfold,)\n",
    "    results.append(cv_results)\n",
    "    names.append(name)\n",
    "    msg = \"%s:\\t %f\\t (%f)\" % (name, cv_results.mean(), cv_results.std())\n",
    "    print(msg)\n"
   ]
  },
  {
   "cell_type": "markdown",
   "id": "ae4e4a83",
   "metadata": {},
   "source": [
    "## Comparing Algorithms\n"
   ]
  },
  {
   "cell_type": "code",
   "execution_count": null,
   "id": "4bc19cbb",
   "metadata": {},
   "outputs": [],
   "source": [
    "#From the above values, we can see that Support Vector Machines (SVM) has the largest estimated accuracy score.\n",
    "#Compare mean acccuracy of Algorithms with each other\n",
    "fig = plt.figure()\n",
    "fig.suptitle('Algorithm Comparison')\n",
    "ax = fig.add_subplot(111)\n",
    "plt.boxplot(results)\n",
    "ax.set_xticklabels(names)\n",
    "plt.show()"
   ]
  },
  {
   "cell_type": "markdown",
   "id": "c80f0503",
   "metadata": {},
   "source": [
    "## Make predictions on Validation dataset\n",
    " "
   ]
  },
  {
   "cell_type": "code",
   "execution_count": null,
   "id": "91e05005",
   "metadata": {},
   "outputs": [],
   "source": [
    "model=SVC()\n",
    "model.fit(X_train, Y_train)\n",
    "predictions = model.predict(X_test)\n",
    "print(\"Accuracy=\",accuracy_score(Y_test, predictions),\"%\\n\")\n",
    "print(\"Confusion Matrix=\\n\",confusion_matrix(Y_test, predictions),\"\\n\")\n",
    "print(\"Classification Report=\\n\",classification_report(Y_test, predictions))"
   ]
  },
  {
   "cell_type": "markdown",
   "id": "17df6504",
   "metadata": {},
   "source": [
    "# Save the model"
   ]
  },
  {
   "cell_type": "code",
   "execution_count": null,
   "id": "22372c94",
   "metadata": {},
   "outputs": [],
   "source": [
    "best_model = RandomForestClassifier()\n",
    "# save the model to disk\n",
    "pickle.dump(best_model, open(\"mi_mejor_modelo\", 'wb'))"
   ]
  },
  {
   "cell_type": "code",
   "execution_count": null,
   "id": "69f3e2e8",
   "metadata": {},
   "outputs": [],
   "source": [
    "# load the model from disk\n",
    "loaded_model = pickle.load(open(\"mi_mejor_modelo\", 'rb'))\n"
   ]
  },
  {
   "cell_type": "code",
   "execution_count": null,
   "id": "b0b5e32c",
   "metadata": {},
   "outputs": [],
   "source": [
    "loaded_model"
   ]
  },
  {
   "cell_type": "code",
   "execution_count": null,
   "id": "6f76ed58",
   "metadata": {},
   "outputs": [],
   "source": []
  }
 ],
 "metadata": {
  "kernelspec": {
   "display_name": "Python 3",
   "language": "python",
   "name": "python3"
  },
  "language_info": {
   "codemirror_mode": {
    "name": "ipython",
    "version": 3
   },
   "file_extension": ".py",
   "mimetype": "text/x-python",
   "name": "python",
   "nbconvert_exporter": "python",
   "pygments_lexer": "ipython3",
   "version": "3.8.8"
  },
  "toc": {
   "base_numbering": 1,
   "nav_menu": {},
   "number_sections": true,
   "sideBar": true,
   "skip_h1_title": false,
   "title_cell": "Table of Contents",
   "title_sidebar": "Contents",
   "toc_cell": true,
   "toc_position": {},
   "toc_section_display": true,
   "toc_window_display": false
  }
 },
 "nbformat": 4,
 "nbformat_minor": 5
}
